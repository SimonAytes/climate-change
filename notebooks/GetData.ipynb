{
 "cells": [
  {
   "cell_type": "markdown",
   "metadata": {},
   "source": [
    "# Gather Data\n",
    "\n",
    "----"
   ]
  },
  {
   "cell_type": "markdown",
   "metadata": {},
   "source": [
    "The data for this project is sourced from the Our World In Data (OWID) page on CO2 and Greenhouse gas emissions. Below are the relevant links for this data.\n",
    "\n",
    "1. OWID project page ([link](https://ourworldindata.org/co2-and-other-greenhouse-gas-emissions))\n",
    "2. GitHub page ([link](https://github.com/owid/co2-data))\n",
    "\n",
    "The specific data for this project is sourced from the `owid-co2-data.csv` file located [here](https://raw.githubusercontent.com/owid/co2-data/master/owid-co2-data.csv)."
   ]
  },
  {
   "cell_type": "code",
   "execution_count": 1,
   "metadata": {},
   "outputs": [],
   "source": [
    "import pandas as pd\n",
    "import os"
   ]
  },
  {
   "cell_type": "code",
   "execution_count": 2,
   "metadata": {},
   "outputs": [],
   "source": [
    "emissions_df = pd.read_csv(\"https://raw.githubusercontent.com/owid/co2-data/master/owid-co2-data.csv\")"
   ]
  },
  {
   "cell_type": "code",
   "execution_count": 3,
   "metadata": {},
   "outputs": [],
   "source": [
    "data_path = \"/\".join(os.getcwd().split(\"/\")[:-1]) + \"/data/raw/\"\n",
    "emissions_df.to_csv(data_path + \"emissions.csv\", index = False)"
   ]
  }
 ],
 "metadata": {
  "kernelspec": {
   "display_name": "Python 3",
   "language": "python",
   "name": "python3"
  },
  "language_info": {
   "codemirror_mode": {
    "name": "ipython",
    "version": 3
   },
   "file_extension": ".py",
   "mimetype": "text/x-python",
   "name": "python",
   "nbconvert_exporter": "python",
   "pygments_lexer": "ipython3",
   "version": "3.8.5"
  }
 },
 "nbformat": 4,
 "nbformat_minor": 5
}
