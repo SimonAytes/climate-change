{
 "cells": [
  {
   "cell_type": "markdown",
   "id": "5db38763-118b-4873-b307-2843e6566e7c",
   "metadata": {},
   "source": [
    "# Gather Data\n",
    "\n",
    "----"
   ]
  },
  {
   "cell_type": "markdown",
   "id": "33769b5d-b8a4-4e16-9733-e9a0782c2f4b",
   "metadata": {},
   "source": [
    "The data for this project is sourced from the Our World In Data (OWID) page on CO2 and Greenhouse gas emissions. Below are the relevant links for this data.\n",
    "\n",
    "1. OWID project page ([link](https://ourworldindata.org/co2-and-other-greenhouse-gas-emissions))\n",
    "2. GitHub page ([link](https://github.com/owid/co2-data))\n",
    "\n",
    "The specific data for this project is sourced from the `owid-co2-data.csv` file located [here](https://raw.githubusercontent.com/owid/co2-data/master/owid-co2-data.csv)."
   ]
  },
  {
   "cell_type": "code",
   "execution_count": 1,
   "id": "fb001a7d-0273-4680-a447-c7a48e40bb9d",
   "metadata": {},
   "outputs": [],
   "source": [
    "import pandas as pd\n",
    "import os"
   ]
  },
  {
   "cell_type": "code",
   "execution_count": 2,
   "id": "c1156918-94d3-4ff0-9d40-efb52c4e50b3",
   "metadata": {},
   "outputs": [],
   "source": [
    "emissions_df = pd.read_csv(\"https://raw.githubusercontent.com/owid/co2-data/master/owid-co2-data.csv\")"
   ]
  },
  {
   "cell_type": "code",
   "execution_count": 3,
   "id": "b30edd0c-fd6c-49db-b99d-e32cf61305e5",
   "metadata": {},
   "outputs": [],
   "source": [
    "data_path = \"/\".join(os.getcwd().split(\"/\")[:-1]) + \"/data/raw/\"\n",
    "emissions_df.to_csv(data_path + \"emissions.csv\", index = False)"
   ]
  }
 ],
 "metadata": {
  "kernelspec": {
   "display_name": "Python 3 (ipykernel)",
   "language": "python",
   "name": "python3"
  },
  "language_info": {
   "codemirror_mode": {
    "name": "ipython",
    "version": 3
   },
   "file_extension": ".py",
   "mimetype": "text/x-python",
   "name": "python",
   "nbconvert_exporter": "python",
   "pygments_lexer": "ipython3",
   "version": "3.10.1"
  }
 },
 "nbformat": 4,
 "nbformat_minor": 5
}
